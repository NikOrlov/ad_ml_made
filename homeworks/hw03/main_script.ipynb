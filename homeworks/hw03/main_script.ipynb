{
 "cells": [
  {
   "cell_type": "code",
   "execution_count": 1,
   "metadata": {},
   "outputs": [],
   "source": [
    "import numpy as np\n",
    "from matplotlib import pyplot as plt\n",
    "import scipy as ac\n",
    "from scipy import special\n",
    "import string\n",
    "import re\n",
    "import random\n",
    "from tqdm import tqdm\n",
    "\n",
    "from collections import Counter\n",
    "from sklearn.metrics import accuracy_score"
   ]
  },
  {
   "cell_type": "code",
   "execution_count": 2,
   "metadata": {},
   "outputs": [],
   "source": [
    "random.seed = 42\n",
    "np.random.seed(42)"
   ]
  },
  {
   "cell_type": "code",
   "execution_count": 3,
   "metadata": {},
   "outputs": [
    {
     "name": "stdout",
     "output_type": "stream",
     "text": [
      "﻿The Project Gutenberg EBook of War and Peace, by Leo Tolstoy\r\n",
      "\r\n",
      "This eBook is for the use of anyone anywhere at no cost and with almost\r\n",
      "no restrictions whatsoever.  You may copy it, give it away or re-use it\r\n",
      "under the terms of the Project Gutenberg License included with this\r\n",
      "eBook or online at www.gutenberg.org\r\n",
      "\r\n",
      "\r\n",
      "Title: War and Peace\r\n",
      "\r\n"
     ]
    }
   ],
   "source": [
    "!head corpora/WarAndPeaceEng.txt"
   ]
  },
  {
   "cell_type": "code",
   "execution_count": 4,
   "metadata": {},
   "outputs": [],
   "source": [
    "text_ru_path = 'corpora/WarAndPeace.txt'\n",
    "text_en_path = 'corpora/WarAndPeaceEng.txt'"
   ]
  },
  {
   "cell_type": "code",
   "execution_count": 5,
   "metadata": {},
   "outputs": [],
   "source": [
    "def get_clean_text(path, regexp):\n",
    "    with open(path, 'r') as file:\n",
    "        text = file.read().lower()\n",
    "    only_words = re.subn(pattern=regexp, repl=' ', string=text)[0]\n",
    "    text = ' '.join(only_words.split())\n",
    "    return text"
   ]
  },
  {
   "cell_type": "code",
   "execution_count": 6,
   "metadata": {},
   "outputs": [],
   "source": [
    "text_ru = get_clean_text(text_ru_path, '[^а-я]')\n",
    "text_en = get_clean_text(text_en_path, '[^a-z]')"
   ]
  },
  {
   "cell_type": "code",
   "execution_count": 7,
   "metadata": {},
   "outputs": [],
   "source": [
    "ALPHABET_RU = 'абвгдежзийклмнопрстуфхцчшщъыьэюя '\n",
    "ALPHABET_EN = 'abcdefghijklmnopqrstuvwxyz '"
   ]
  },
  {
   "cell_type": "code",
   "execution_count": 8,
   "metadata": {},
   "outputs": [],
   "source": [
    "RU_TO_ID = {char : i for i, char in enumerate(ALPHABET_RU)}\n",
    "EN_TO_ID = {char : i for i, char in enumerate(ALPHABET_EN)}"
   ]
  },
  {
   "cell_type": "markdown",
   "metadata": {},
   "source": [
    "Для унификации работы алгоритма (и языков) перейдем к численному представлению символов алфавита"
   ]
  },
  {
   "cell_type": "code",
   "execution_count": 9,
   "metadata": {},
   "outputs": [],
   "source": [
    "def apply_substitution(substitution, data):\n",
    "    return np.array([substitution[char] for char in data])"
   ]
  },
  {
   "cell_type": "code",
   "execution_count": 10,
   "metadata": {},
   "outputs": [],
   "source": [
    "def convert_to_chars(array, mapper):\n",
    "    return ''.join([mapper[i] for i in array])"
   ]
  },
  {
   "cell_type": "code",
   "execution_count": 11,
   "metadata": {},
   "outputs": [],
   "source": [
    "def report(open_data, key_for_decryption, cipher_data, alphabet=ALPHABET_EN):\n",
    "    print('Encryption accuracy:', accuracy_score(apply_substitution(key_for_decryption, cipher_data), open_data))\n",
    "\n",
    "    print('\\nOriginal: ', convert_to_chars(open_data, alphabet))\n",
    "    print('\\nEncrypted:', convert_to_chars(apply_substitution(key_for_decryption, cipher_data), alphabet))"
   ]
  },
  {
   "cell_type": "code",
   "execution_count": 12,
   "metadata": {},
   "outputs": [
    {
     "name": "stdout",
     "output_type": "stream",
     "text": [
      "Размер корпуса русского языка: 643122\n",
      "Размер корпуса английского языка: 3108248\n"
     ]
    }
   ],
   "source": [
    "data_ru = apply_substitution(RU_TO_ID, text_ru)\n",
    "data_en = apply_substitution(EN_TO_ID, text_en)\n",
    "\n",
    "assert len(data_ru) == len(text_ru)\n",
    "assert len(data_en) == len(text_en)\n",
    "\n",
    "print('Размер корпуса русского языка:', len(data_ru))\n",
    "print('Размер корпуса английского языка:', len(data_en))"
   ]
  },
  {
   "cell_type": "markdown",
   "metadata": {},
   "source": [
    "# Пункт 1"
   ]
  },
  {
   "cell_type": "markdown",
   "metadata": {},
   "source": [
    "Реализуйте базовый частотный метод по Шерлоку Холмсу:\n",
    " - подсчитайте частоты букв по корпусам (пунктуацию и капитализацию можно просто опустить, а вот пробелы лучше оставить);\n",
    " - возьмите какие-нибудь тестовые тексты (нужно взять по меньшей мере 2-3 предложения, иначе вряд ли сработает), зашифруйте их посредством случайной перестановки символов;\n",
    " - расшифруйте их таким частотным методом.\n"
   ]
  },
  {
   "cell_type": "code",
   "execution_count": 13,
   "metadata": {},
   "outputs": [
    {
     "name": "stdout",
     "output_type": "stream",
     "text": [
      "Encryption accuracy: 0.4033333333333333\n",
      "\n",
      "Original:  the project gutenberg ebook of war and peace by leo tolstoy this ebook is for the use of anyone anywhere at no cost and with almost no restrictions whatsoever you may copy it give it away or re use it under the terms of the project gutenberg license included with this ebook or online at www gutenber\n",
      "\n",
      "Encrypted: are pntxela fmaeocenf ecttb ty dhn hog pehle cu wet atwsatu aris ecttb is ytn are mse ty houtoe houdrene ha ot ltsa hog diar hwvtsa ot nesanilaitos drhasteken utm vhu ltpu ia fike ia hdhu tn ne mse ia mogen are aenvs ty are pntxela fmaeocenf wileose iolwmgeg diar aris ecttb tn towioe ha ddd fmaeocen\n"
     ]
    }
   ],
   "source": [
    "distr_en = Counter(data_en)\n",
    "key = np.random.permutation(len(ALPHABET_EN))\n",
    "\n",
    "chunk_size = 300\n",
    "open_text = data_en[:chunk_size]\n",
    "\n",
    "cipher_text = apply_substitution(key, open_text)\n",
    "\n",
    "distr_cipher_text = Counter(np.concatenate((np.arange(len(ALPHABET_EN)), cipher_text)))\n",
    "\n",
    "inv_key = np.full(len(ALPHABET_EN), fill_value=-1)\n",
    "for i, j in zip(distr_cipher_text.most_common(), distr_en.most_common()):\n",
    "    inv_key[i[0]] = j[0]\n",
    "\n",
    "    \n",
    "report(open_text, inv_key, cipher_text)"
   ]
  },
  {
   "cell_type": "markdown",
   "metadata": {},
   "source": [
    "Посмотрим на зависимость длины открытого текста от качества дешифровки:"
   ]
  },
  {
   "cell_type": "code",
   "execution_count": 14,
   "metadata": {},
   "outputs": [],
   "source": [
    "def gram_accuracy(data, alphabet, size, key=key):\n",
    "    distr = Counter(data)\n",
    "    chunk_size = size\n",
    "    open_text = data[:chunk_size]\n",
    "    cipher_text = apply_substitution(key, open_text)\n",
    "    distr_cipher_text = Counter(np.concatenate((np.arange(len(alphabet)), cipher_text)))\n",
    "\n",
    "    inv_key = np.full(len(alphabet), fill_value=-1)\n",
    "    for i, j in zip(distr_cipher_text.most_common(), distr.most_common()):\n",
    "        inv_key[i[0]] = j[0]\n",
    "    \n",
    "    decrypted_text = apply_substitution(inv_key, cipher_text)\n",
    "    return accuracy_score(decrypted_text, open_text)"
   ]
  },
  {
   "cell_type": "code",
   "execution_count": 15,
   "metadata": {},
   "outputs": [
    {
     "data": {
      "image/png": "[encoded data removed]",
      "text/plain": [
       "<Figure size 432x288 with 1 Axes>"
      ]
     },
     "metadata": {
      "needs_background": "light"
     },
     "output_type": "display_data"
    }
   ],
   "source": [
    "INIT_KEY_EN = np.random.permutation(len(ALPHABET_EN))\n",
    "\n",
    "x_steps_en = np.linspace(100, len(data_en), num=20, dtype=int)\n",
    "y_steps_en = [gram_accuracy(data_en, ALPHABET_EN, x, INIT_KEY_EN) for x in x_steps_en]\n",
    "plt.plot(x_steps_en, y_steps_en)\n",
    "plt.title('English')\n",
    "plt.xlabel('Open text size')\n",
    "plt.ylabel('Accuracy')\n",
    "plt.show()"
   ]
  },
  {
   "cell_type": "code",
   "execution_count": 16,
   "metadata": {},
   "outputs": [
    {
     "data": {
      "image/png": "[encoded data removed]",
      "text/plain": [
       "<Figure size 432x288 with 1 Axes>"
      ]
     },
     "metadata": {
      "needs_background": "light"
     },
     "output_type": "display_data"
    }
   ],
   "source": [
    "INIT_KEY_RU = np.random.permutation(len(ALPHABET_RU))\n",
    "\n",
    "\n",
    "x_steps_ru = np.linspace(100, len(data_ru), num=20, dtype=int)\n",
    "y_steps_ru = [gram_accuracy(data_ru, ALPHABET_RU, x, INIT_KEY_RU) for x in x_steps_ru]\n",
    "plt.plot(x_steps_ru, y_steps_ru)\n",
    "plt.title('Russian')\n",
    "plt.xlabel('Open text size')\n",
    "plt.ylabel('Accuracy')\n",
    "plt.show()"
   ]
  },
  {
   "cell_type": "markdown",
   "metadata": {},
   "source": [
    "Заметим, что в процентном соотношении числа символов в тексте от размера корпуса, английский язык немного быстрее растет в качестве (к 30% датасета точность=0.95, в русском же корпусе 30% текста соответствует примерно 0.85 точности)"
   ]
  },
  {
   "cell_type": "markdown",
   "metadata": {},
   "source": [
    "# Пункт 2"
   ]
  },
  {
   "cell_type": "markdown",
   "metadata": {},
   "source": [
    "## Биграммы"
   ]
  },
  {
   "cell_type": "markdown",
   "metadata": {},
   "source": [
    "Аналогично считаем частоты биграмм для всего текста"
   ]
  },
  {
   "cell_type": "code",
   "execution_count": 17,
   "metadata": {},
   "outputs": [],
   "source": [
    "def bigrams_accuracy(data, alphabet, size, key=key):\n",
    "    bigrams = zip(data, data[1:])\n",
    "    distr_bigrams = Counter(bigrams)\n",
    "    \n",
    "    chunk_size = size\n",
    "    open_text = data[:chunk_size]\n",
    "    cipher_text = apply_substitution(key, open_text)\n",
    "        \n",
    "    cipher_text_bigrams = zip(cipher_text,cipher_text[1:])\n",
    "    distr_bigrams_cipher = Counter(cipher_text_bigrams)\n",
    "    \n",
    "    inv_key = np.full(len(alphabet), fill_value=-1)\n",
    "    \n",
    "    z = list(zip(distr_bigrams.most_common(), distr_bigrams_cipher.most_common()))\n",
    "    for (o, _), (c, _) in z:\n",
    "        o_start, o_end = o\n",
    "        c_start, c_end = c\n",
    "        \n",
    "        if inv_key[c_start] == -1:\n",
    "            inv_key[c_start] = o_start\n",
    "\n",
    "        if inv_key[c_end] == -1:\n",
    "            inv_key[c_end] = o_end\n",
    "            \n",
    "    \n",
    "    decrypted_text = apply_substitution(inv_key, cipher_text)\n",
    "    return accuracy_score(decrypted_text, open_text)"
   ]
  },
  {
   "cell_type": "code",
   "execution_count": 18,
   "metadata": {},
   "outputs": [
    {
     "data": {
      "image/png": "[encoded data removed]",
      "text/plain": [
       "<Figure size 432x288 with 1 Axes>"
      ]
     },
     "metadata": {
      "needs_background": "light"
     },
     "output_type": "display_data"
    }
   ],
   "source": [
    "x_steps_bi_en = np.linspace(100, len(data_en), num=20, dtype=int)\n",
    "y_steps_bi_en = [bigrams_accuracy(data_en, ALPHABET_EN, x, INIT_KEY_EN) for x in x_steps_bi_en]\n",
    "plt.plot(x_steps_bi_en, y_steps_bi_en)\n",
    "\n",
    "plt.title('English')\n",
    "plt.xlabel('Open text size')\n",
    "plt.ylabel('Accuracy')\n",
    "plt.show()"
   ]
  },
  {
   "cell_type": "code",
   "execution_count": 19,
   "metadata": {},
   "outputs": [
    {
     "data": {
      "image/png": "[encoded data removed]",
      "text/plain": [
       "<Figure size 432x288 with 1 Axes>"
      ]
     },
     "metadata": {
      "needs_background": "light"
     },
     "output_type": "display_data"
    }
   ],
   "source": [
    "x_steps_bi_ru = np.linspace(100, len(data_ru), num=20, dtype=int)\n",
    "y_steps_bi_ru = [bigrams_accuracy(data_ru, ALPHABET_RU, x, INIT_KEY_RU) for x in x_steps_bi_ru]\n",
    "plt.plot(x_steps_bi_ru, y_steps_bi_ru)\n",
    "plt.title('Russian')\n",
    "plt.xlabel('Open text size')\n",
    "plt.ylabel('Accuracy')\n",
    "plt.show()"
   ]
  },
  {
   "cell_type": "markdown",
   "metadata": {},
   "source": [
    "Сравним 1-граммы и 2-граммы:"
   ]
  },
  {
   "cell_type": "code",
   "execution_count": 20,
   "metadata": {},
   "outputs": [
    {
     "data": {
      "image/png": "[encoded data removed]",
      "text/plain": [
       "<Figure size 432x288 with 1 Axes>"
      ]
     },
     "metadata": {
      "needs_background": "light"
     },
     "output_type": "display_data"
    },
    {
     "data": {
      "image/png": "[encoded data removed]",
      "text/plain": [
       "<Figure size 432x288 with 1 Axes>"
      ]
     },
     "metadata": {
      "needs_background": "light"
     },
     "output_type": "display_data"
    }
   ],
   "source": [
    "plt.plot(x_steps_bi_en / x_steps_bi_en.max(), y_steps_bi_en, label='2-grams')\n",
    "plt.plot(x_steps_en / x_steps_en.max(), y_steps_en, label='1-gram')\n",
    "\n",
    "plt.title('English')\n",
    "plt.xlabel('Open text size (%)')\n",
    "plt.ylabel('Accuracy')\n",
    "plt.legend()\n",
    "plt.show()\n",
    "\n",
    "plt.plot(x_steps_bi_ru / x_steps_bi_ru.max(), y_steps_bi_ru, label='2-grams')\n",
    "plt.plot(x_steps_ru / x_steps_ru.max(), y_steps_ru, label='1-gram')\n",
    "plt.title('Russian')\n",
    "plt.xlabel('Open text size (%)')\n",
    "plt.ylabel('Accuracy')\n",
    "plt.legend()\n",
    "plt.show()"
   ]
  },
  {
   "cell_type": "markdown",
   "metadata": {},
   "source": [
    "Заметим, что качество ухудшилось на обоих языках (причем хуже на всех размерах подвыборки)"
   ]
  },
  {
   "cell_type": "code",
   "execution_count": 21,
   "metadata": {},
   "outputs": [
    {
     "data": {
      "image/png": "[encoded data removed]",
      "text/plain": [
       "<Figure size 432x288 with 1 Axes>"
      ]
     },
     "metadata": {
      "needs_background": "light"
     },
     "output_type": "display_data"
    }
   ],
   "source": [
    "plt.plot(x_steps_bi_en / x_steps_bi_en.max(), y_steps_bi_en, label='en: 2-grams')\n",
    "plt.plot(x_steps_en / x_steps_en.max(), y_steps_en, label='en: 1-gram')\n",
    "plt.plot(x_steps_bi_ru / x_steps_bi_ru.max(), y_steps_bi_ru, label='ru: 2-grams')\n",
    "plt.plot(x_steps_ru / x_steps_ru.max(), y_steps_ru, label='ru: 1-gram')\n",
    "plt.xlabel('Open text size')\n",
    "plt.title('Comparing languages scores')\n",
    "plt.ylabel('Accuracy')\n",
    "plt.legend()\n",
    "plt.show()"
   ]
  },
  {
   "cell_type": "markdown",
   "metadata": {},
   "source": [
    "    Вывод по вступительной части:\n",
    "    1. 1-граммы дают лучшее качество (чем биграммы)\n",
    "    2. Английский алфавит расшифровывается лучше (возможно сказывается меньший алфавита + практически в 5 раз больше корпуса)"
   ]
  },
  {
   "cell_type": "markdown",
   "metadata": {},
   "source": [
    "# Пункт 3"
   ]
  },
  {
   "cell_type": "code",
   "execution_count": 22,
   "metadata": {},
   "outputs": [],
   "source": [
    "def get_bigrams(data):\n",
    "    return zip(data, data[1:])"
   ]
  },
  {
   "cell_type": "code",
   "execution_count": 23,
   "metadata": {},
   "outputs": [],
   "source": [
    "bigrams_matrix_ru = np.zeros(shape=(len(ALPHABET_RU), len(ALPHABET_RU)))\n",
    "bigrams_matrix_en = np.zeros(shape=(len(ALPHABET_EN), len(ALPHABET_EN)))"
   ]
  },
  {
   "cell_type": "code",
   "execution_count": 24,
   "metadata": {},
   "outputs": [],
   "source": [
    "for bigramm, val in Counter(get_bigrams(data_ru)).items():\n",
    "    bigrams_matrix_ru[bigramm] = val\n",
    "\n",
    "for bigramm, val in Counter(get_bigrams(data_en)).items():\n",
    "    bigrams_matrix_en[bigramm] = val"
   ]
  },
  {
   "cell_type": "code",
   "execution_count": 25,
   "metadata": {},
   "outputs": [],
   "source": [
    "import seaborn as sns"
   ]
  },
  {
   "cell_type": "markdown",
   "metadata": {},
   "source": [
    "Посмотрим на распределение биграмм в языках:"
   ]
  },
  {
   "cell_type": "code",
   "execution_count": 26,
   "metadata": {},
   "outputs": [],
   "source": [
    "plt.rcParams['figure.figsize'] = (10, 8)"
   ]
  },
  {
   "cell_type": "code",
   "execution_count": 27,
   "metadata": {},
   "outputs": [
    {
     "data": {
      "text/plain": [
       "<AxesSubplot:>"
      ]
     },
     "execution_count": 27,
     "metadata": {},
     "output_type": "execute_result"
    },
    {
     "data": {
      "image/png": "[encoded data removed]",
      "text/plain": [
       "<Figure size 720x576 with 2 Axes>"
      ]
     },
     "metadata": {
      "needs_background": "light"
     },
     "output_type": "display_data"
    }
   ],
   "source": [
    "sns.heatmap(bigrams_matrix_ru, )"
   ]
  },
  {
   "cell_type": "code",
   "execution_count": 28,
   "metadata": {},
   "outputs": [
    {
     "data": {
      "text/plain": [
       "<AxesSubplot:>"
      ]
     },
     "execution_count": 28,
     "metadata": {},
     "output_type": "execute_result"
    },
    {
     "data": {
      "image/png": "[encoded data removed]",
      "text/plain": [
       "<Figure size 720x576 with 2 Axes>"
      ]
     },
     "metadata": {
      "needs_background": "light"
     },
     "output_type": "display_data"
    }
   ],
   "source": [
    "sns.heatmap(bigrams_matrix_en)"
   ]
  },
  {
   "cell_type": "code",
   "execution_count": 29,
   "metadata": {},
   "outputs": [],
   "source": [
    "def log_likelihood(decrypted_data, n_grams_matrix):\n",
    "    log_likelihood = 0\n",
    "    for idx in get_bigrams(decrypted_data):\n",
    "        p = n_grams_matrix[tuple(idx)]\n",
    "        log_likelihood += np.log(p + 1e-5)\n",
    "    return log_likelihood"
   ]
  },
  {
   "cell_type": "code",
   "execution_count": 30,
   "metadata": {},
   "outputs": [
    {
     "name": "stdout",
     "output_type": "stream",
     "text": [
      "Open text, LL: 2865.6811220943555\n",
      "Cipher text, LL: 666.8053133552261\n"
     ]
    }
   ],
   "source": [
    "print('Open text, LL:', log_likelihood(open_text, bigrams_matrix_en))\n",
    "print('Cipher text, LL:', log_likelihood(cipher_text, bigrams_matrix_en))"
   ]
  },
  {
   "cell_type": "code",
   "execution_count": 31,
   "metadata": {},
   "outputs": [],
   "source": [
    "MAX_TRANSPOSITION = 10\n",
    "N_ITERATIONS = 25000"
   ]
  },
  {
   "cell_type": "code",
   "execution_count": 32,
   "metadata": {},
   "outputs": [],
   "source": [
    "def q_sample(substitution):\n",
    "    s = np.copy(substitution)\n",
    "    n_transposition = np.random.randint(1, MAX_TRANSPOSITION)\n",
    "    for i in range(n_transposition):\n",
    "        a = np.random.randint(len(substitution))\n",
    "        b = np.random.randint(len(substitution))\n",
    "        s[a], s[b] = s[b], s[a]\n",
    "    return s\n",
    "\n",
    "def metropolis_hastings_log_accept(l, l_new):\n",
    "    if l_new > l:\n",
    "        return True\n",
    "    else:\n",
    "        return np.random.rand() < np.exp((l_new - l))\n",
    "    \n",
    "def metropolis_hastings(\n",
    "    func_log_likelihood, \n",
    "    iterations, \n",
    "    init_substitution, \n",
    "    cipher_text, \n",
    "    n_grams_matrix):\n",
    "    \n",
    "    #init stage\n",
    "    s = np.copy(init_substitution)\n",
    "    decrypted_data = apply_substitution(s, cipher_text)\n",
    "    cur_l = func_log_likelihood(decrypted_data, n_grams_matrix)\n",
    "    \n",
    "    log_likelihood = []\n",
    "    steps = []\n",
    "    samples = [s]\n",
    "    accept_bit = [1]\n",
    "    \n",
    "    for i in range(iterations):\n",
    "        #generate new substitution\n",
    "        new_substitution = q_sample(s)\n",
    "        samples.append(new_substitution)\n",
    "\n",
    "        #couning new lll\n",
    "        decrypted_data = apply_substitution(new_substitution, cipher_text)\n",
    "        new_l = func_log_likelihood(decrypted_data, n_grams_matrix)\n",
    "        \n",
    "        #check improvement\n",
    "        if (metropolis_hastings_log_accept(cur_l, new_l)):\n",
    "            s, cur_l = new_substitution, new_l\n",
    "            accept_bit.append(1)\n",
    "            log_likelihood.append(cur_l)\n",
    "            steps.append(i)\n",
    "        else:\n",
    "            accept_bit.append(0)\n",
    "    return np.array(steps), np.array(log_likelihood), np.array(samples), np.array(accept_bit)\n",
    "\n",
    "\n",
    "def search_key(init_substitution, iterations, func_log_likelihood, cipher_text, n_grams_matrix):\n",
    "\n",
    "\n",
    "    steps, lll, samples, accept_bit = metropolis_hastings(\n",
    "        func_log_likelihood=func_log_likelihood, \n",
    "        iterations=iterations, \n",
    "        init_substitution=init_substitution, \n",
    "        cipher_text=cipher_text, \n",
    "        n_grams_matrix=n_grams_matrix\n",
    "    )\n",
    "    \n",
    "    decrypt_key = samples[accept_bit == 1][np.argmax(lll)]\n",
    "    cur_lll = log_likelihood(apply_substitution(decrypt_key, cipher_text), n_grams_matrix)\n",
    "    return decrypt_key, cur_lll"
   ]
  },
  {
   "cell_type": "code",
   "execution_count": 33,
   "metadata": {},
   "outputs": [
    {
     "name": "stdout",
     "output_type": "stream",
     "text": [
      "Log likelihood: 2765.62413823684\n",
      "Encryption accuracy: 0.57\n",
      "\n",
      "Original:  the project gutenberg ebook of war and peace by leo tolstoy this ebook is for the use of anyone anywhere at no cost and with almost no restrictions whatsoever you may copy it give it away or re use it under the terms of the project gutenberg license included with this ebook or online at www gutenber\n",
      "\n",
      "Encrypted: ile btozedi hmienceth ecoov of pat ang beade cy ueo iousioy ilrs ecoov rs fot ile mse of anyone anyplete ai no dosi ang pril auwosi no tesitrdirons plaisoeket yom way doby ri hrke ri apay ot te mse ri mnget ile ietws of ile btozedi hmienceth urdense rndumgeg pril ilrs ecoov ot onurne ai ppp hmiencet\n"
     ]
    }
   ],
   "source": [
    "decrypt_key, cur_lll = search_key(init_substitution = INIT_KEY_EN,\n",
    "                                iterations=N_ITERATIONS,\n",
    "                                  func_log_likelihood=log_likelihood,\n",
    "                                  cipher_text=cipher_text,\n",
    "                                  n_grams_matrix=bigrams_matrix_en)\n",
    "print('Log likelihood:', cur_lll)\n",
    "\n",
    "report(open_text, decrypt_key, cipher_text)"
   ]
  },
  {
   "cell_type": "markdown",
   "metadata": {},
   "source": [
    "Возьмем несколько разных \"точек старта\":"
   ]
  },
  {
   "cell_type": "code",
   "execution_count": 34,
   "metadata": {},
   "outputs": [],
   "source": [
    "def find_best_key_pipeline(alphabet_size, iterations, func_log_likelihood, cipher_text, n_grams_matrix):\n",
    "    best_key = np.zeros(alphabet_size)\n",
    "    best_likelihood = -1e10 \n",
    "    for i in tqdm(range(20)):\n",
    "        random_substitution = np.random.permutation(alphabet_size)\n",
    "        decrypt_key, cur_lll = search_key(init_substitution = random_substitution,\n",
    "                                        iterations=N_ITERATIONS,\n",
    "                                      func_log_likelihood=log_likelihood,\n",
    "                                      cipher_text=cipher_text,\n",
    "                                      n_grams_matrix=n_grams_matrix)\n",
    "        if cur_lll > best_likelihood:\n",
    "            best_likelihood = cur_lll\n",
    "            best_key = decrypt_key\n",
    "            print(cur_lll)\n",
    "    \n",
    "    print('Best log likelihood:', cur_lll)\n",
    "\n",
    "    return best_key"
   ]
  },
  {
   "cell_type": "code",
   "execution_count": 35,
   "metadata": {},
   "outputs": [
    {
     "name": "stderr",
     "output_type": "stream",
     "text": [
      "  5%|▌         | 1/20 [00:17<05:37, 17.78s/it]"
     ]
    },
    {
     "name": "stdout",
     "output_type": "stream",
     "text": [
      "2760.236765667184\n"
     ]
    },
    {
     "name": "stderr",
     "output_type": "stream",
     "text": [
      "\r",
      " 10%|█         | 2/20 [00:35<05:19, 17.74s/it]"
     ]
    },
    {
     "name": "stdout",
     "output_type": "stream",
     "text": [
      "2888.376564566227\n"
     ]
    },
    {
     "name": "stderr",
     "output_type": "stream",
     "text": [
      " 25%|██▌       | 5/20 [01:28<04:25, 17.68s/it]"
     ]
    },
    {
     "name": "stdout",
     "output_type": "stream",
     "text": [
      "2892.0347085083854\n"
     ]
    },
    {
     "name": "stderr",
     "output_type": "stream",
     "text": [
      "100%|██████████| 20/20 [05:53<00:00, 17.68s/it]"
     ]
    },
    {
     "name": "stdout",
     "output_type": "stream",
     "text": [
      "Best log likelihood: 2876.5837761155076\n",
      "Encryption accuracy: 0.9033333333333333\n",
      "\n",
      "Original:  the project gutenberg ebook of war and peace by leo tolstoy this ebook is for the use of anyone anywhere at no cost and with almost no restrictions whatsoever you may copy it give it away or re use it under the terms of the project gutenberg license included with this ebook or online at www gutenber\n",
      "\n",
      "Encrypted: the brovect mutenderm edook of war ang beace dy leo tolstoy this edook is for the use of anyone anywhere at no cost ang with alpost no restrictions whatsoezer you pay coby it mize it away or re use it unger the terps of the brovect mutenderm license inclugeg with this edook or online at www mutender\n"
     ]
    },
    {
     "name": "stderr",
     "output_type": "stream",
     "text": [
      "\n"
     ]
    }
   ],
   "source": [
    "best_key = find_best_key_pipeline(len(ALPHABET_EN),\n",
    "                                  N_ITERATIONS,\n",
    "                                  log_likelihood,\n",
    "                                  cipher_text,\n",
    "                                  bigrams_matrix_en)\n",
    "report(open_text, best_key, cipher_text)"
   ]
  },
  {
   "cell_type": "markdown",
   "metadata": {},
   "source": [
    "# Пункт 4"
   ]
  },
  {
   "cell_type": "code",
   "execution_count": 36,
   "metadata": {},
   "outputs": [],
   "source": [
    "unknown_text = 'დჳჵჂႨშႼႨშჂხჂჲდႨსႹႭჾႣჵისႼჰႨჂჵჂႨႲႹႧჲჂႨსႹႭჾႣჵისႼჰႨჲდႩჳჲႨჇႨႠჲႹქႹႨჳႹႹჱჶდსჂႽႨႩႹჲႹႭႼჰႨჵდქႩႹႨႲႭႹႧჂჲႣჲიႨჳႩႹႭდდႨშჳდქႹႨშႼႨშჳდႨჳხდჵႣჵჂႨႲႭႣშჂჵისႹႨჂႨႲႹჵჇႧჂჲდႨჾႣႩჳჂჾႣჵისႼჰႨჱႣჵჵႨეႣႨႲႹჳჵდხსდდႨႧდჲშდႭჲႹდႨეႣხႣსჂდႨႩჇႭჳႣႨႾႹჲႽႨႩႹსდႧსႹႨႽႨსჂႧდქႹႨსდႨႹჱდჶႣნ'\n"
   ]
  },
  {
   "cell_type": "code",
   "execution_count": 37,
   "metadata": {},
   "outputs": [],
   "source": [
    "ALPHABET_UNK = set(unknown_text)\n",
    "UNK_TO_ID = {c: i for i, c in enumerate(ALPHABET_UNK)}"
   ]
  },
  {
   "cell_type": "code",
   "execution_count": 38,
   "metadata": {},
   "outputs": [],
   "source": [
    "data_unknown = apply_substitution(UNK_TO_ID, unknown_text)"
   ]
  },
  {
   "cell_type": "code",
   "execution_count": 39,
   "metadata": {},
   "outputs": [
    {
     "name": "stderr",
     "output_type": "stream",
     "text": [
      "  5%|▌         | 1/20 [00:13<04:25, 14.00s/it]"
     ]
    },
    {
     "name": "stdout",
     "output_type": "stream",
     "text": [
      "1734.7950812915035\n"
     ]
    },
    {
     "name": "stderr",
     "output_type": "stream",
     "text": [
      "\r",
      " 10%|█         | 2/20 [00:27<04:11, 13.97s/it]"
     ]
    },
    {
     "name": "stdout",
     "output_type": "stream",
     "text": [
      "1781.0745973745318\n"
     ]
    },
    {
     "name": "stderr",
     "output_type": "stream",
     "text": [
      " 75%|███████▌  | 15/20 [03:28<01:09, 13.89s/it]"
     ]
    },
    {
     "name": "stdout",
     "output_type": "stream",
     "text": [
      "1799.4216489425255\n"
     ]
    },
    {
     "name": "stderr",
     "output_type": "stream",
     "text": [
      "100%|██████████| 20/20 [04:37<00:00, 13.90s/it]"
     ]
    },
    {
     "name": "stdout",
     "output_type": "stream",
     "text": [
      "Best log likelihood: 1762.9045663367676\n"
     ]
    },
    {
     "name": "stderr",
     "output_type": "stream",
     "text": [
      "\n"
     ]
    }
   ],
   "source": [
    "best_key_unk = find_best_key_pipeline(len(ALPHABET_RU),\n",
    "                                  N_ITERATIONS,\n",
    "                                  log_likelihood,\n",
    "                                  data_unknown,\n",
    "                                  bigrams_matrix_ru)"
   ]
  },
  {
   "cell_type": "code",
   "execution_count": 40,
   "metadata": {},
   "outputs": [
    {
     "name": "stdout",
     "output_type": "stream",
     "text": [
      "если вы видите норжальный или помти норжальный текст у этого сообчения который легко промитать скорее всего вы все сделали правильно и полумите жаксижальный балл ша последнее метвертое шадание курса хотя конемно я нимего не обечаз\n"
     ]
    }
   ],
   "source": [
    "decrypted_unk_data = apply_substitution(best_key_unk, data_unknown)\n",
    "print(convert_to_chars(decrypted_unk_data, ALPHABET_RU))"
   ]
  },
  {
   "cell_type": "markdown",
   "metadata": {},
   "source": [
    "# Вывод"
   ]
  },
  {
   "cell_type": "markdown",
   "metadata": {},
   "source": [
    "1. 1-граммы дают лучшее качество (чем биграммы)\n",
    "2. Английский алфавит расшифровывается лучше (возможно сказывается меньший алфавита + практически в 5 раз больше корпуса)\n",
    "3. Семплирование \"решает\" (смогли достичь на выборке размера 300 такое же качества, как в случае \"голых\" 1-2-грамм на выборке размера ~ 500к слов)\n",
    "4. Добавление случайной инициализации повысило качество (ушли от локального минимума насколько это возможно)"
   ]
  }
 ],
 "metadata": {
  "kernelspec": {
   "display_name": "Python 3",
   "language": "python",
   "name": "python3"
  },
  "language_info": {
   "codemirror_mode": {
    "name": "ipython",
    "version": 3
   },
   "file_extension": ".py",
   "mimetype": "text/x-python",
   "name": "python",
   "nbconvert_exporter": "python",
   "pygments_lexer": "ipython3",
   "version": "3.6.12"
  }
 },
 "nbformat": 4,
 "nbformat_minor": 4
}
